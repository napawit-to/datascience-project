{
 "cells": [
  {
   "cell_type": "code",
   "execution_count": 3,
   "metadata": {},
   "outputs": [],
   "source": [
    "import numpy as np\n",
    "# import tensorflow as tf\n",
    "import pandas as pd\n",
    "import matplotlib.pyplot as plt\n",
    "\n",
    "from sklearn.linear_model import LogisticRegression\n",
    "from sklearn.tree import DecisionTreeClassifier\n",
    "from sklearn.ensemble import RandomForestClassifier\n",
    "\n",
    "from sklearn.model_selection import train_test_split\n",
    "from sklearn.model_selection import cross_val_score\n",
    "from sklearn.model_selection import GridSearchCV\n",
    "from sklearn.model_selection import RandomizedSearchCV\n",
    "\n",
    "from sklearn.metrics import roc_curve\n",
    "from sklearn.metrics import roc_auc_score\n",
    "from sklearn.metrics import confusion_matrix\n",
    "from sklearn.metrics import precision_score\n",
    "from sklearn.metrics import recall_score\n",
    "from sklearn.metrics import f1_score\n",
    "from sklearn.metrics import accuracy_score\n",
    "from sklearn.metrics import precision_recall_curve\n",
    "import pickle"
   ]
  },
  {
   "cell_type": "code",
   "execution_count": 4,
   "metadata": {},
   "outputs": [],
   "source": [
    "import warnings\n",
    "warnings.filterwarnings(\"ignore\")"
   ]
  },
  {
   "cell_type": "code",
   "execution_count": 5,
   "metadata": {},
   "outputs": [],
   "source": [
    "trained_randomRF_filename = 'trained_randomRF_model.sav'"
   ]
  },
  {
   "cell_type": "markdown",
   "metadata": {},
   "source": [
    "### Data Preparation"
   ]
  },
  {
   "cell_type": "code",
   "execution_count": 6,
   "metadata": {},
   "outputs": [],
   "source": [
    "def load_data():\n",
    "    # Fetch the data\n",
    "    data_raw = pd.read_csv('./bank-additional/bank-additional-full.csv',header=0,sep=';',na_values='unknown')\n",
    "    data_raw['y'].replace('no', 0, inplace=True)\n",
    "    data_raw['y'].replace('yes', 1, inplace=True)\n",
    "    return data_raw"
   ]
  },
  {
   "cell_type": "code",
   "execution_count": 7,
   "metadata": {},
   "outputs": [],
   "source": [
    "def preprocessing(data):\n",
    "    clean_data = data.copy().drop('duration',axis=1)\n",
    "    # Fill na\n",
    "    clean_data.job.fillna('unknown',inplace = True)\n",
    "    clean_data.marital.fillna('unknown',inplace = True)\n",
    "    clean_data.education.fillna('unknown',inplace = True)\n",
    "    clean_data.default.fillna('no',inplace = True)\n",
    "    clean_data.housing.fillna('no',inplace = True)\n",
    "    clean_data.loan.fillna('no',inplace = True)\n",
    "    \n",
    "    # Seperate between categorical and numerical data\n",
    "    clean_data_obj = clean_data.select_dtypes(include=['object'])\n",
    "    clean_data_num = clean_data.select_dtypes(exclude=['object'])\n",
    "    \n",
    "    # One-hot categorical data\n",
    "    clean_data_obj = pd.get_dummies(clean_data_obj,drop_first=True)\n",
    "    \n",
    "    from sklearn.preprocessing import MinMaxScaler\n",
    "    scaler = MinMaxScaler()\n",
    "    scaler.fit(clean_data_num)\n",
    "    clean_data_num = pd.DataFrame(scaler.transform(clean_data_num),columns=clean_data_num.keys())\n",
    "    # Join back the data\n",
    "    clean_data = clean_data_num.join(clean_data_obj)\n",
    "    \n",
    "    return clean_data"
   ]
  },
  {
   "cell_type": "code",
   "execution_count": 8,
   "metadata": {},
   "outputs": [],
   "source": [
    "data_raw = load_data()"
   ]
  },
  {
   "cell_type": "code",
   "execution_count": 9,
   "metadata": {},
   "outputs": [],
   "source": [
    "prep_data = preprocessing(data_raw)"
   ]
  },
  {
   "cell_type": "code",
   "execution_count": 10,
   "metadata": {},
   "outputs": [],
   "source": [
    "# Split train/test set\n",
    "from sklearn.model_selection import train_test_split\n",
    "features = prep_data.dropna().drop('y',axis=1)\n",
    "label = prep_data.dropna().y\n",
    "train_x,test_x,train_y,test_y = train_test_split(features,label, test_size=0.33, random_state=42)"
   ]
  },
  {
   "cell_type": "markdown",
   "metadata": {},
   "source": [
    "### Model Selections by Cross Validation\n"
   ]
  },
  {
   "cell_type": "code",
   "execution_count": 11,
   "metadata": {},
   "outputs": [
    {
     "name": "stdout",
     "output_type": "stream",
     "text": [
      "Logistic Regression model's average AUC: 0.7939\n"
     ]
    }
   ],
   "source": [
    "# Logistic Regression\n",
    "lr_clf = LogisticRegression()\n",
    "scores = cross_val_score(lr_clf,train_x,train_y,cv=3,scoring='roc_auc')\n",
    "\n",
    "print(f\"Logistic Regression model's average AUC: {scores.mean():.4f}\")"
   ]
  },
  {
   "cell_type": "code",
   "execution_count": 12,
   "metadata": {},
   "outputs": [
    {
     "name": "stdout",
     "output_type": "stream",
     "text": [
      "Tree Classifer model's average AUC: 0.6260\n"
     ]
    }
   ],
   "source": [
    "# Decision Tree\n",
    "tree_clf = DecisionTreeClassifier()\n",
    "scores = cross_val_score(tree_clf,train_x,train_y,cv=10,scoring='roc_auc')\n",
    "\n",
    "print(f\"Tree Classifer model's average AUC: {scores.mean():.4f}\")"
   ]
  },
  {
   "cell_type": "code",
   "execution_count": 13,
   "metadata": {},
   "outputs": [
    {
     "name": "stdout",
     "output_type": "stream",
     "text": [
      "Random Forest Classfier model's average AUC: 0.7443\n"
     ]
    }
   ],
   "source": [
    "# Random Forest\n",
    "rf_clf = RandomForestClassifier()\n",
    "scores = cross_val_score(rf_clf,train_x,train_y,cv=10,scoring='roc_auc')\n",
    "\n",
    "print(f\"Random Forest Classfier model's average AUC: {scores.mean():.4f}\")"
   ]
  },
  {
   "cell_type": "markdown",
   "metadata": {},
   "source": [
    "### Common"
   ]
  },
  {
   "cell_type": "code",
   "execution_count": 14,
   "metadata": {},
   "outputs": [],
   "source": [
    "def eval_matrics(pred_class_y,pred_prob_y,label_y,model_name='Model'):\n",
    "    # Matrics\n",
    "    auc = roc_auc_score(label_y,pred_prob_y[:,1])\n",
    "    print(f'{model_name} AUC is {auc:.4f}')\n",
    "    acc = accuracy_score(label_y,pred_class_y)\n",
    "    print(f'{model_name} Accuracy is {acc:.4f}')\n",
    "    precision = precision_score(label_y,pred_class_y)\n",
    "    print(f'{model_name} precision is {precision:.4f}')\n",
    "    recall = recall_score(label_y,pred_class_y)\n",
    "    print(f'{model_name} recall is {recall:.4f}')\n",
    "    f1 = f1_score(label_y,pred_class_y)\n",
    "    print(f'{model_name} f1-score is {f1:.4f}')\n",
    "    # Confusion Matrix\n",
    "    print(f'Confusion Matrix of {model_name}:')\n",
    "    print(confusion_matrix(label_y,pred_class_y))\n",
    "    return    "
   ]
  },
  {
   "cell_type": "markdown",
   "metadata": {},
   "source": [
    "### Baseline"
   ]
  },
  {
   "cell_type": "markdown",
   "metadata": {},
   "source": [
    "#### Logistic Regression Baseline"
   ]
  },
  {
   "cell_type": "code",
   "execution_count": 26,
   "metadata": {},
   "outputs": [
    {
     "name": "stdout",
     "output_type": "stream",
     "text": [
      "Logistic Regression Model AUC is 0.7874\n",
      "Logistic Regression Model Accuracy is 0.9004\n",
      "Logistic Regression Model precision is 0.6856\n",
      "Logistic Regression Model recall is 0.2199\n",
      "Logistic Regression Model f1-score is 0.3330\n",
      "Confusion Matrix of Logistic Regression Model:\n",
      "[[11901   155]\n",
      " [ 1199   338]]\n"
     ]
    }
   ],
   "source": [
    "## Logistic Regression Baseline¶\n",
    "# Fit and Predict\n",
    "lr_clf = LogisticRegression().fit(train_x,train_y)\n",
    "pred_class_y = lr_clf.predict(test_x)\n",
    "pred_prob_y = lr_clf.predict_proba(test_x)\n",
    "# Evaluate\n",
    "eval_matrics(pred_class_y,pred_prob_y,test_y,'Logistic Regression Model')"
   ]
  },
  {
   "cell_type": "code",
   "execution_count": 27,
   "metadata": {},
   "outputs": [],
   "source": [
    "fpr_lr_base, tpr_lr_base ,_= roc_curve(test_y, pred_prob_y[:,1])"
   ]
  },
  {
   "cell_type": "markdown",
   "metadata": {},
   "source": [
    "### Grid search"
   ]
  },
  {
   "cell_type": "code",
   "execution_count": 18,
   "metadata": {},
   "outputs": [
    {
     "name": "stdout",
     "output_type": "stream",
     "text": [
      "Fitting 3 folds for each of 28 candidates, totalling 84 fits\n"
     ]
    },
    {
     "name": "stderr",
     "output_type": "stream",
     "text": [
      "[Parallel(n_jobs=1)]: Using backend SequentialBackend with 1 concurrent workers.\n",
      "[Parallel(n_jobs=1)]: Done  84 out of  84 | elapsed:  1.9min finished\n"
     ]
    },
    {
     "data": {
      "text/plain": [
       "GridSearchCV(cv=3, error_score='raise-deprecating',\n",
       "       estimator=LogisticRegression(C=1.0, class_weight=None, dual=False, fit_intercept=True,\n",
       "          intercept_scaling=1, max_iter=100, multi_class='warn',\n",
       "          n_jobs=None, penalty='l2', random_state=None, solver='warn',\n",
       "          tol=0.0001, verbose=0, warm_start=False),\n",
       "       fit_params=None, iid='warn', n_jobs=None,\n",
       "       param_grid={'penalty': ['l1', 'l2'], 'C': [0.001, 0.01, 0.1, 1, 10, 100, 1000], 'class_weight': [None, 'balanced']},\n",
       "       pre_dispatch='2*n_jobs', refit=True, return_train_score='warn',\n",
       "       scoring='roc_auc', verbose=1)"
      ]
     },
     "execution_count": 18,
     "metadata": {},
     "output_type": "execute_result"
    }
   ],
   "source": [
    "# Create Grid parameters\n",
    "# linear regularization type (penalty)\n",
    "penalty_type = ['l1','l2']\n",
    "\n",
    "# Inverse of regularization strength (C)\n",
    "reg_str = [0.001, 0.01, 0.1, 1, 10, 100, 1000] \n",
    "\n",
    "# Weights associated with classes (class_weight)\n",
    "cl_weight = [None, 'balanced']\n",
    "# cl_weight = [None, 'balanced',{0:1,1:2}]\n",
    "\n",
    "# Create the grid search parameters\n",
    "lr_param_grid = {'penalty':penalty_type,\n",
    "                  'C':reg_str,\n",
    "                  'class_weight':cl_weight}\n",
    "# Create a based model\n",
    "lr_clf = LogisticRegression()\n",
    "# Instantiate the grid search model\n",
    "lr_grid_search = GridSearchCV(estimator = lr_clf, param_grid = lr_param_grid, cv=3, scoring ='roc_auc',verbose=1)\n",
    "# Fit the grid search to the data\n",
    "lr_grid_search.fit(train_x,train_y)"
   ]
  },
  {
   "cell_type": "markdown",
   "metadata": {},
   "source": [
    "### Evaluate Tuning Models"
   ]
  },
  {
   "cell_type": "markdown",
   "metadata": {},
   "source": [
    "#### Tuned Logistic Regression Model "
   ]
  },
  {
   "cell_type": "code",
   "execution_count": 20,
   "metadata": {},
   "outputs": [
    {
     "data": {
      "text/plain": [
       "{'C': 1, 'class_weight': 'balanced', 'penalty': 'l1'}"
      ]
     },
     "execution_count": 20,
     "metadata": {},
     "output_type": "execute_result"
    }
   ],
   "source": [
    "lr_grid_search.best_params_"
   ]
  },
  {
   "cell_type": "code",
   "execution_count": 28,
   "metadata": {},
   "outputs": [
    {
     "name": "stdout",
     "output_type": "stream",
     "text": [
      "Tuned LR Model AUC is 0.7878\n",
      "Tuned LR Model Accuracy is 0.8281\n",
      "Tuned LR Model precision is 0.3522\n",
      "Tuned LR Model recall is 0.6200\n",
      "Tuned LR Model f1-score is 0.4492\n",
      "Confusion Matrix of Tuned LR Model:\n",
      "[[10303  1753]\n",
      " [  584   953]]\n"
     ]
    }
   ],
   "source": [
    "# Fit and Predict\n",
    "lr_clf = LogisticRegression(penalty='l1', C=1, class_weight='balanced').fit(train_x,train_y)\n",
    "pred_class_y = lr_clf.predict(test_x)\n",
    "pred_prob_y = lr_clf.predict_proba(test_x)\n",
    "# Evaluate\n",
    "eval_matrics(pred_class_y,pred_prob_y,test_y,'Tuned LR Model')"
   ]
  },
  {
   "cell_type": "code",
   "execution_count": 30,
   "metadata": {},
   "outputs": [],
   "source": [
    "fpr_lr_tuned, tpr_lr_tuned ,_= roc_curve(test_y, pred_prob_y[:,1])"
   ]
  },
  {
   "cell_type": "code",
   "execution_count": 31,
   "metadata": {},
   "outputs": [
    {
     "data": {
      "image/png": "[encoded data removed]",
      "text/plain": [
       "<Figure size 432x288 with 1 Axes>"
      ]
     },
     "metadata": {
      "needs_background": "light"
     },
     "output_type": "display_data"
    }
   ],
   "source": [
    "plt.plot(fpr_lr_base, tpr_lr_base, 'b--',linewidth=1, label='LR_based')\n",
    "plt.plot(fpr_lr_tuned, tpr_lr_tuned, 'b-',linewidth=2, label='LR_tuned')\n",
    "plt.plot([0,1],[0,1],'k--')\n",
    "plt.axis([0,1,0,1])\n",
    "plt.legend()\n",
    "plt.xlabel('False Positive Rate')\n",
    "plt.ylabel('True Positive Rate')\n",
    "plt.title('ROC of Tuning vs Base Models')\n",
    "plt.show()"
   ]
  },
  {
   "cell_type": "code",
   "execution_count": null,
   "metadata": {},
   "outputs": [],
   "source": []
  }
 ],
 "metadata": {
  "kernelspec": {
   "display_name": "Python 3",
   "language": "python",
   "name": "python3"
  },
  "language_info": {
   "codemirror_mode": {
    "name": "ipython",
    "version": 3
   },
   "file_extension": ".py",
   "mimetype": "text/x-python",
   "name": "python",
   "nbconvert_exporter": "python",
   "pygments_lexer": "ipython3",
   "version": "3.7.0"
  }
 },
 "nbformat": 4,
 "nbformat_minor": 2
}
